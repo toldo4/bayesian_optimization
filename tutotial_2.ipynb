{
 "cells": [
  {
   "cell_type": "code",
   "execution_count": 1,
   "metadata": {},
   "outputs": [],
   "source": [
    "from sklearn.gaussian_process import GaussianProcessRegressor\n",
    "from scipy.stats import norm\n",
    "from scipy.optimize import minimize\n",
    "import sys\n",
    "import pandas as pd\n",
    "import numpy as np\n",
    "\n",
    "class BayesianOptimizer():\n",
    "      \n",
    "    def __init__(self, target_func, x_init, y_init, n_iter, scale, batch_size):\n",
    "        self.x_init = x_init\n",
    "        self.y_init = y_init\n",
    "        self.target_func = target_func\n",
    "        self.n_iter = n_iter\n",
    "        self.scale = scale\n",
    "        self.batch_size = batch_size\n",
    "        self.gauss_pr = GaussianProcessRegressor()\n",
    "        self.best_samples_ = pd.DataFrame(columns = ['x', 'y', 'ei'])\n",
    "        self.distances_ = []\n",
    "        \n",
    "    def _get_expected_improvement(self, x_new):\n",
    "\n",
    "        # Using estimate from Gaussian surrogate instead of actual function for \n",
    "        # a new trial data point to avoid cost \n",
    " \n",
    "        mean_y_new, sigma_y_new = self.gauss_pr.predict(np.array([x_new]), return_std=True)\n",
    "        sigma_y_new = sigma_y_new.reshape(-1,1)\n",
    "        if sigma_y_new == 0.0:\n",
    "            return 0.0\n",
    "        \n",
    "        # Using estimates from Gaussian surrogate instead of actual function for \n",
    "        # entire prior distribution to avoid cost\n",
    "        \n",
    "        mean_y = self.gauss_pr.predict(self.x_init)\n",
    "        max_mean_y = np.max(mean_y)\n",
    "        z = (mean_y_new - max_mean_y) / sigma_y_new\n",
    "        exp_imp = (mean_y_new - max_mean_y) * norm.cdf(z) + sigma_y_new * norm.pdf(z)\n",
    "        \n",
    "        return exp_imp\n",
    "    \n",
    "    def _acquisition_function(self, x):\n",
    "        return -self._get_expected_improvement(x)\n",
    "        \n",
    "    def _get_next_probable_point(self):\n",
    "            min_ei = float(sys.maxsize)\n",
    "            x_optimal = None \n",
    "            \n",
    "            # Trial with an array of random data points\n",
    "            \n",
    "            for x_start in (np.random.random((self.batch_size,self.x_init.shape[1])) * self.scale):\n",
    "                response = minimize(fun=self._acquisition_function, x0=x_start, method='L-BFGS-B')\n",
    "                if response.fun < min_ei:\n",
    "                    min_ei = response.fun\n",
    "                    x_optimal = response.x\n",
    "            \n",
    "            return x_optimal, min_ei\n",
    "\n",
    "    def _extend_prior_with_posterior_data(self, x,y):\n",
    "        self.x_init = np.append(self.x_init, np.array([x]), axis = 0)\n",
    "        self.y_init = np.append(self.y_init, np.array(y), axis = 0)\n",
    "  \n",
    "    def optimize(self):\n",
    "        y_max_ind = np.argmax(self.y_init)\n",
    "        y_max = self.y_init[y_max_ind]\n",
    "        optimal_x = self.x_init[y_max_ind]\n",
    "        optimal_ei = None\n",
    "        for i in range(self.n_iter):\n",
    "            self.gauss_pr.fit(self.x_init, self.y_init)\n",
    "            x_next, ei = self._get_next_probable_point()\n",
    "            y_next = self.target_func(np.array([x_next]))\n",
    "            self._extend_prior_with_posterior_data(x_next,y_next)\n",
    "            \n",
    "            if y_next[0] > y_max:\n",
    "                y_max = y_next[0]\n",
    "                optimal_x = x_next\n",
    "                optimal_ei = ei\n",
    "\n",
    "            if i == 0:\n",
    "                 prev_x = x_next\n",
    "            else:\n",
    "                self.distances_.append(np.linalg.norm(prev_x - x_next))\n",
    "                prev_x = x_next\n",
    "            \n",
    "            self.best_samples_ = self.best_samples_.append({\"y\": y_max, \"ei\": optimal_ei},ignore_index=True)\n",
    "        \n",
    "        return optimal_x, y_max"
   ]
  },
  {
   "cell_type": "code",
   "execution_count": 2,
   "metadata": {},
   "outputs": [],
   "source": [
    "def costly_function(x):\n",
    "    return np.sin(x[:, 0]) + np.cos(2 * x[:, 1])\n",
    "\n",
    "sample_x = np.linspace(-2 * np.pi, 2 * np.pi, 100).reshape(50, 2)\n",
    "sample_y = costly_function(sample_x)\n",
    "\n"
   ]
  },
  {
   "cell_type": "code",
   "execution_count": 3,
   "metadata": {},
   "outputs": [
    {
     "name": "stderr",
     "output_type": "stream",
     "text": [
      "/tmp/ipykernel_43828/3695246747.py:84: FutureWarning: The frame.append method is deprecated and will be removed from pandas in a future version. Use pandas.concat instead.\n",
      "  self.best_samples_ = self.best_samples_.append({\"y\": y_max, \"ei\": optimal_ei},ignore_index=True)\n",
      "/tmp/ipykernel_43828/3695246747.py:84: FutureWarning: The frame.append method is deprecated and will be removed from pandas in a future version. Use pandas.concat instead.\n",
      "  self.best_samples_ = self.best_samples_.append({\"y\": y_max, \"ei\": optimal_ei},ignore_index=True)\n",
      "/tmp/ipykernel_43828/3695246747.py:84: FutureWarning: The frame.append method is deprecated and will be removed from pandas in a future version. Use pandas.concat instead.\n",
      "  self.best_samples_ = self.best_samples_.append({\"y\": y_max, \"ei\": optimal_ei},ignore_index=True)\n"
     ]
    }
   ],
   "source": [
    "bopt = BayesianOptimizer(target_func=costly_function, x_init=sample_x, y_init=sample_y, n_iter=50, scale=10, batch_size=30)\n",
    "bopt.optimize()\n",
    "\n",
    "pd.DataFrame(bopt.distances_).plot()"
   ]
  },
  {
   "cell_type": "code",
   "execution_count": null,
   "metadata": {},
   "outputs": [],
   "source": [
    "bopt.best_samples_['y'].plot()"
   ]
  },
  {
   "cell_type": "code",
   "execution_count": null,
   "metadata": {},
   "outputs": [],
   "source": [
    "bopt.best_samples_['ei'].plot()"
   ]
  }
 ],
 "metadata": {
  "kernelspec": {
   "display_name": "pa4-enn",
   "language": "python",
   "name": "python3"
  },
  "language_info": {
   "codemirror_mode": {
    "name": "ipython",
    "version": 3
   },
   "file_extension": ".py",
   "mimetype": "text/x-python",
   "name": "python",
   "nbconvert_exporter": "python",
   "pygments_lexer": "ipython3",
   "version": "3.8.18"
  }
 },
 "nbformat": 4,
 "nbformat_minor": 2
}
